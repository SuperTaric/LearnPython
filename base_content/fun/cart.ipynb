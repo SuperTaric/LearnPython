{
 "cells": [
  {
   "cell_type": "code",
   "execution_count": 14,
   "id": "eaa2d91c-b604-4cc3-b6d2-b8ddb7c4a8f3",
   "metadata": {
    "tags": []
   },
   "outputs": [],
   "source": [
    "products = [[1000, \"ihpone\", \"phone\", 12000],\n",
    "            [1001, \"ipad\", \"pad\", 15000],\n",
    "            [1002, \"macbook\", \"laptop\", 20000]]\n",
    "\n",
    "stock = {1000: 10, 1001: 13, 1002: 100}\n",
    "\n",
    "cart = {1000: 5, 1001: 2}\n",
    "\n",
    "# for i in cart: \n",
    "#     print(i, cart[i])\n",
    "    \n",
    "# for j in products:\n",
    "#     if j[0] == 1000:\n",
    "#         print(j[1])\n"
   ]
  },
  {
   "cell_type": "code",
   "execution_count": null,
   "id": "4d9f87e9-3860-4198-b9e3-97fc8ab99585",
   "metadata": {
    "tags": []
   },
   "outputs": [],
   "source": [
    "def idtoname(product_id):\n",
    "    for product in products:\n",
    "        if product[0] == product_id:\n",
    "            return product[1]\n",
    "            break\n",
    "                \n",
    "def idtoprice(product_id):\n",
    "    for product in products:\n",
    "        if product[0] == product_id:\n",
    "            return product[3]\n",
    "            break\n",
    "            \n",
    "def showCart():\n",
    "    totalMoney = 0\n",
    "    for product in cart:\n",
    "        print(f\"购买商品 {idtoname(product)} 的数量为 {cart[product]}\")\n",
    "        totalMoney += idtoprice(product) * cart[product]\n",
    "    print(f\"总费用为：{totalMoney}\")"
   ]
  },
  {
   "cell_type": "code",
   "execution_count": null,
   "id": "666fe6b5-fde1-45b4-8fa8-5d4f88ecb3d8",
   "metadata": {
    "tags": []
   },
   "outputs": [],
   "source": [
    "def clearCart():\n",
    "    cart.clear()"
   ]
  },
  {
   "cell_type": "code",
   "execution_count": null,
   "id": "ced60c89-5e8a-413a-85fc-a7629780054c",
   "metadata": {
    "tags": []
   },
   "outputs": [],
   "source": [
    "def addProduct(product_id, product_number):\n",
    "    if product_id in cart.keys():\n",
    "        cart[product_id] += product_number\n",
    "        \n",
    "    else:\n",
    "        cart[product_id] = product_number"
   ]
  },
  {
   "cell_type": "code",
   "execution_count": null,
   "id": "b4fa59f2-8300-4970-ad5c-b6abd71c8817",
   "metadata": {
    "tags": []
   },
   "outputs": [],
   "source": [
    "def delProducr(product_id):\n",
    "    if product_id in cart.keys():\n",
    "        cart[product_id] -= 1\n",
    "        if cart[product_id] == 0:\n",
    "            cart.pop(product_id)"
   ]
  },
  {
   "cell_type": "code",
   "execution_count": null,
   "id": "effc4067-d4ca-4e17-9675-3078bbfb8798",
   "metadata": {
    "tags": []
   },
   "outputs": [],
   "source": [
    "showCart()"
   ]
  },
  {
   "cell_type": "code",
   "execution_count": null,
   "id": "dd36ee75-84f4-4b52-8bd0-1cc3644f4166",
   "metadata": {
    "tags": []
   },
   "outputs": [],
   "source": [
    "addProduct(1000, 10)\n",
    "showCart()"
   ]
  },
  {
   "cell_type": "code",
   "execution_count": null,
   "id": "db3e76c3-b101-481c-9f3e-a745a4c62468",
   "metadata": {
    "tags": []
   },
   "outputs": [],
   "source": [
    "delProducr(1000)\n",
    "showCart()"
   ]
  },
  {
   "cell_type": "code",
   "execution_count": null,
   "id": "a42d9877-d4ce-47e2-aa03-37ce8970bf27",
   "metadata": {},
   "outputs": [],
   "source": []
  }
 ],
 "metadata": {
  "kernelspec": {
   "display_name": "Python 3 (ipykernel)",
   "language": "python",
   "name": "python3"
  },
  "language_info": {
   "codemirror_mode": {
    "name": "ipython",
    "version": 3
   },
   "file_extension": ".py",
   "mimetype": "text/x-python",
   "name": "python",
   "nbconvert_exporter": "python",
   "pygments_lexer": "ipython3",
   "version": "3.10.10"
  }
 },
 "nbformat": 4,
 "nbformat_minor": 5
}
