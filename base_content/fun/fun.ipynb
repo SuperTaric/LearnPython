{
 "cells": [
  {
   "cell_type": "code",
   "execution_count": null,
   "id": "a33d2cf3-a56c-4658-a9bb-bac357509dd2",
   "metadata": {
    "tags": []
   },
   "outputs": [],
   "source": [
    "def foo():\n",
    "    print(\"foo\")\n",
    "    print(\"is a funtion\")\n",
    "print(\"aaa\")\n",
    "foo()"
   ]
  },
  {
   "cell_type": "code",
   "execution_count": null,
   "id": "492ca813-22b4-4941-9846-e351b37f657a",
   "metadata": {
    "tags": []
   },
   "outputs": [],
   "source": [
    "def foo1(n1: int, n2: int) -> int:\n",
    "    return n1 + n2\n",
    "sum = foo1(100, 200)\n",
    "print(sum)"
   ]
  },
  {
   "cell_type": "code",
   "execution_count": null,
   "id": "f4bb04da-9cbc-47a7-87f3-6b6176fdb2fe",
   "metadata": {
    "tags": []
   },
   "outputs": [],
   "source": [
    "def address_book(name, *telphone, alias_name=None, **custom):\n",
    "    print(f\"name: {name}, tel: {telphone}, aname: {alias_name}, custom: {custom}\")"
   ]
  },
  {
   "cell_type": "code",
   "execution_count": null,
   "id": "6285af5f-0835-487c-81b3-699143c02da6",
   "metadata": {
    "tags": []
   },
   "outputs": [],
   "source": [
    "address_book(\"wilson\")"
   ]
  },
  {
   "cell_type": "code",
   "execution_count": null,
   "id": "218d50bc-6439-4cfe-b7e4-912eb18c0b08",
   "metadata": {
    "tags": []
   },
   "outputs": [],
   "source": [
    "address_book(\"tom\", 1234, 134, 13)"
   ]
  },
  {
   "cell_type": "code",
   "execution_count": null,
   "id": "20220581-bb1e-4acf-bc91-ce5e71448ae3",
   "metadata": {
    "tags": []
   },
   "outputs": [],
   "source": [
    "address_book(\"tom\", 1234, 134, 13, home=\"Beijing\")"
   ]
  },
  {
   "cell_type": "code",
   "execution_count": null,
   "id": "285e492c-1edd-4d25-a5cd-4ddc7807c5bf",
   "metadata": {
    "tags": []
   },
   "outputs": [],
   "source": [
    "address_book(\"tom\", 1234, 134, 13, home=\"Beijing\", alias_name=\"w\")"
   ]
  },
  {
   "cell_type": "code",
   "execution_count": null,
   "id": "4f397fa2-9f26-48f9-aee5-9c301e1375f6",
   "metadata": {
    "tags": []
   },
   "outputs": [],
   "source": [
    "address_book(\"tom\", 1234, 'bbbb', 13, home=\"Beijing\", alias_name=\"w\")"
   ]
  },
  {
   "cell_type": "code",
   "execution_count": null,
   "id": "457c416f-758e-46de-9993-b69ce2926455",
   "metadata": {
    "tags": []
   },
   "outputs": [],
   "source": [
    "open.__doc__"
   ]
  },
  {
   "cell_type": "code",
   "execution_count": null,
   "id": "4634a387-9c9c-47be-95c3-9f71ffdc62db",
   "metadata": {},
   "outputs": [],
   "source": []
  }
 ],
 "metadata": {
  "kernelspec": {
   "display_name": "Python 3 (ipykernel)",
   "language": "python",
   "name": "python3"
  },
  "language_info": {
   "codemirror_mode": {
    "name": "ipython",
    "version": 3
   },
   "file_extension": ".py",
   "mimetype": "text/x-python",
   "name": "python",
   "nbconvert_exporter": "python",
   "pygments_lexer": "ipython3",
   "version": "3.10.10"
  }
 },
 "nbformat": 4,
 "nbformat_minor": 5
}
