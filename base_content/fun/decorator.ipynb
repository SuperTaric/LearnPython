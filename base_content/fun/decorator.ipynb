{
 "cells": [
  {
   "cell_type": "code",
   "execution_count": 1,
   "id": "8fb6fbce-bbb2-4a71-a83e-2eebd70d7109",
   "metadata": {
    "tags": []
   },
   "outputs": [
    {
     "data": {
      "text/plain": [
       "1676542521.6016839"
      ]
     },
     "execution_count": 1,
     "metadata": {},
     "output_type": "execute_result"
    }
   ],
   "source": [
    "import time\n",
    "time.time()"
   ]
  },
  {
   "cell_type": "code",
   "execution_count": 3,
   "id": "265e275c-89d1-42a2-802c-3b257f901fbe",
   "metadata": {
    "tags": []
   },
   "outputs": [
    {
     "name": "stdout",
     "output_type": "stream",
     "text": [
      "func 函数开始执行\n",
      "func 函数结束执行\n",
      "func 函数一共执行了1秒\n"
     ]
    }
   ],
   "source": [
    "def func():\n",
    "    print(\"func 函数开始执行\")\n",
    "    time.sleep(1)\n",
    "    print(\"func 函数结束执行\")\n",
    "    \n",
    "start = time.time()\n",
    "func()\n",
    "stop = time.time()\n",
    "print(f\"func 函数一共执行了{int(stop - start)}秒\")"
   ]
  },
  {
   "cell_type": "code",
   "execution_count": 14,
   "id": "d9eeba58-4edc-405e-a620-5b891d8c3498",
   "metadata": {
    "tags": []
   },
   "outputs": [],
   "source": [
    "from functools import wraps\n",
    "def time_it(func):\n",
    "    @wraps(func)\n",
    "    def wrapper():\n",
    "        start = time.time()\n",
    "        func()\n",
    "        stop = time.time()\n",
    "        print(f\"func 函数一共执行了{int(stop - start)}秒\")\n",
    "    return wrapper"
   ]
  },
  {
   "cell_type": "code",
   "execution_count": 16,
   "id": "4fe2d248-b0b6-48c8-9153-c187038bb4ab",
   "metadata": {
    "tags": []
   },
   "outputs": [
    {
     "name": "stdout",
     "output_type": "stream",
     "text": [
      "func 函数开始执行\n",
      "func 函数结束执行\n",
      "func 函数一共执行了1秒\n"
     ]
    }
   ],
   "source": [
    "@time_it\n",
    "def work():\n",
    "    print(\"func 函数开始执行\")\n",
    "    time.sleep(1)\n",
    "    print(\"func 函数结束执行\")\n",
    "\n",
    "work()"
   ]
  },
  {
   "cell_type": "code",
   "execution_count": 17,
   "id": "a994c9bf-d69e-41e5-8e99-12508c0ac837",
   "metadata": {
    "tags": []
   },
   "outputs": [
    {
     "data": {
      "text/plain": [
       "'work'"
      ]
     },
     "execution_count": 17,
     "metadata": {},
     "output_type": "execute_result"
    }
   ],
   "source": [
    "work.__name__"
   ]
  },
  {
   "cell_type": "code",
   "execution_count": null,
   "id": "7b7e45e5-ecc0-431f-9a6a-55ce95b0333d",
   "metadata": {},
   "outputs": [],
   "source": []
  }
 ],
 "metadata": {
  "kernelspec": {
   "display_name": "Python 3 (ipykernel)",
   "language": "python",
   "name": "python3"
  },
  "language_info": {
   "codemirror_mode": {
    "name": "ipython",
    "version": 3
   },
   "file_extension": ".py",
   "mimetype": "text/x-python",
   "name": "python",
   "nbconvert_exporter": "python",
   "pygments_lexer": "ipython3",
   "version": "3.10.10"
  }
 },
 "nbformat": 4,
 "nbformat_minor": 5
}
