{
 "cells": [
  {
   "cell_type": "code",
   "execution_count": 5,
   "id": "7d4fa45b-9ea2-40b2-8df6-c7f1eae855c5",
   "metadata": {
    "tags": []
   },
   "outputs": [
    {
     "data": {
      "text/plain": [
       "function"
      ]
     },
     "execution_count": 5,
     "metadata": {},
     "output_type": "execute_result"
    }
   ],
   "source": [
    "def foo():\n",
    "    print(\"foo display\")\n",
    "a = foo\n",
    "type(a)"
   ]
  },
  {
   "cell_type": "code",
   "execution_count": 6,
   "id": "1c057091-103b-4ee8-9c7b-df85f9ae0ed6",
   "metadata": {
    "tags": []
   },
   "outputs": [],
   "source": [
    "def add(number):\n",
    "    return (number + number)"
   ]
  },
  {
   "cell_type": "code",
   "execution_count": 7,
   "id": "a3178b3c-8ad9-4f3e-ac64-a92b6894419e",
   "metadata": {
    "tags": []
   },
   "outputs": [
    {
     "name": "stdout",
     "output_type": "stream",
     "text": [
      "0\n",
      "2\n",
      "4\n",
      "6\n",
      "8\n"
     ]
    }
   ],
   "source": [
    "for i in map(add, range(5)):\n",
    "    print(i)"
   ]
  },
  {
   "cell_type": "code",
   "execution_count": 8,
   "id": "3bd64adf-eaef-46eb-8a9e-7cca490f7886",
   "metadata": {
    "tags": []
   },
   "outputs": [
    {
     "name": "stdout",
     "output_type": "stream",
     "text": [
      "[0, 2, 4, 6, 8]\n"
     ]
    }
   ],
   "source": [
    "print(list(map(lambda x : x + x, range(5))))"
   ]
  },
  {
   "cell_type": "code",
   "execution_count": 9,
   "id": "717ae1be-dde7-477f-85b0-a552f3406826",
   "metadata": {
    "tags": []
   },
   "outputs": [
    {
     "name": "stdout",
     "output_type": "stream",
     "text": [
      "1\n",
      "2\n"
     ]
    }
   ],
   "source": [
    "for i in filter(lambda x: x > 0, (-2, -1, 0, 1, 2)):\n",
    "    print(i)"
   ]
  },
  {
   "cell_type": "code",
   "execution_count": 10,
   "id": "499e72c1-4fb3-491c-b90f-63e2aad475c1",
   "metadata": {
    "tags": []
   },
   "outputs": [
    {
     "data": {
      "text/plain": [
       "15"
      ]
     },
     "execution_count": 10,
     "metadata": {},
     "output_type": "execute_result"
    }
   ],
   "source": [
    "from functools import reduce\n",
    "reduce(lambda x, y: x + y, [1, 2, 3, 4, 5])"
   ]
  },
  {
   "cell_type": "code",
   "execution_count": 11,
   "id": "766b884a-eebd-47f9-b0cc-57ed48fd6f3c",
   "metadata": {
    "tags": []
   },
   "outputs": [
    {
     "data": {
      "text/plain": [
       "15"
      ]
     },
     "execution_count": 11,
     "metadata": {},
     "output_type": "execute_result"
    }
   ],
   "source": [
    "int(\"0f\", base = 16)"
   ]
  },
  {
   "cell_type": "code",
   "execution_count": 12,
   "id": "390394a9-8b1a-495b-af15-0f7b7691080d",
   "metadata": {
    "tags": []
   },
   "outputs": [
    {
     "data": {
      "text/plain": [
       "13"
      ]
     },
     "execution_count": 12,
     "metadata": {},
     "output_type": "execute_result"
    }
   ],
   "source": [
    "from functools import partial\n",
    "int_16 = partial(int, base = 16)\n",
    "int_16(\"d\")"
   ]
  },
  {
   "cell_type": "code",
   "execution_count": 13,
   "id": "ce1f1f36-d4ae-4beb-bf21-dd3fbe713bc8",
   "metadata": {
    "tags": []
   },
   "outputs": [],
   "source": [
    "list1 = [1, 3, 5, 7, 9]\n",
    "list2 = [2, 4, 6, 8, 10]"
   ]
  },
  {
   "cell_type": "code",
   "execution_count": 15,
   "id": "16f67c70-4280-4d95-9111-2397f9d3dde5",
   "metadata": {
    "tags": []
   },
   "outputs": [
    {
     "data": {
      "text/plain": [
       "[3, 7, 11, 15, 19]"
      ]
     },
     "execution_count": 15,
     "metadata": {},
     "output_type": "execute_result"
    }
   ],
   "source": [
    "list(map(lambda x1, y1: x1 + y1 , list1,list2))"
   ]
  },
  {
   "cell_type": "code",
   "execution_count": null,
   "id": "9d143b9f-a42c-4db0-884f-6db70efc15ce",
   "metadata": {},
   "outputs": [],
   "source": []
  }
 ],
 "metadata": {
  "kernelspec": {
   "display_name": "Python 3 (ipykernel)",
   "language": "python",
   "name": "python3"
  },
  "language_info": {
   "codemirror_mode": {
    "name": "ipython",
    "version": 3
   },
   "file_extension": ".py",
   "mimetype": "text/x-python",
   "name": "python",
   "nbconvert_exporter": "python",
   "pygments_lexer": "ipython3",
   "version": "3.10.10"
  }
 },
 "nbformat": 4,
 "nbformat_minor": 5
}
