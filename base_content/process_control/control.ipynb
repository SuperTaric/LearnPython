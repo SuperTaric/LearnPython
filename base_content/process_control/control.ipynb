{
 "cells": [
  {
   "cell_type": "code",
   "execution_count": 3,
   "id": "17cb542a-80b6-44c0-8876-0e87028e25de",
   "metadata": {},
   "outputs": [
    {
     "name": "stdout",
     "output_type": "stream",
     "text": [
      "success\n",
      "success1\n",
      "--------\n"
     ]
    }
   ],
   "source": [
    "if True :\n",
    "    print(\"success\")\n",
    "    print(\"success1\")\n",
    "print(\"--------\") "
   ]
  },
  {
   "cell_type": "code",
   "execution_count": 8,
   "id": "3939223b-a82e-4001-b4b8-5cdb7f3ca98b",
   "metadata": {
    "tags": []
   },
   "outputs": [
    {
     "name": "stdout",
     "output_type": "stream",
     "text": [
      "Something's wrong with the internet\n"
     ]
    }
   ],
   "source": [
    "http_response_status = 500\n",
    "\n",
    "match http_response_status:\n",
    "        case 400 | 401 | 403:\n",
    "            print(\"Bad request\" )\n",
    "        case 404:\n",
    "            print( \"Not found\")\n",
    "        case 418:\n",
    "            print( \"I'm a teapot\")\n",
    "        case _:\n",
    "            print( \"Something's wrong with the internet\")"
   ]
  },
  {
   "cell_type": "code",
   "execution_count": 9,
   "id": "0216edcf-5b95-4c1c-8884-997dbc17dd54",
   "metadata": {
    "tags": []
   },
   "outputs": [
    {
     "name": "stdout",
     "output_type": "stream",
     "text": [
      "请输入月份 4\n"
     ]
    },
    {
     "name": "stdout",
     "output_type": "stream",
     "text": [
      "spring\n"
     ]
    }
   ],
   "source": [
    "month = input(\"请输入月份\")\n",
    "if month == \"3\" or month == \"4\" or month == \"5\":\n",
    "    print(\"spring\")\n",
    "elif month == \"6\" or month == \"7\" or month == \"8\":\n",
    "    print(\"summer\")\n",
    "elif month ==  \"9\" or month == \"10\" or month == \"11\":\n",
    "    print(\"autumn\")\n",
    "else:\n",
    "    print(\"winter\")"
   ]
  },
  {
   "cell_type": "code",
   "execution_count": 10,
   "id": "09e98c09-6a07-4239-87e2-133f892e0285",
   "metadata": {
    "tags": []
   },
   "outputs": [
    {
     "name": "stdout",
     "output_type": "stream",
     "text": [
      "number is 1\n",
      "number is 2\n",
      "number is 3\n",
      "4\n"
     ]
    }
   ],
   "source": [
    "number = 1\n",
    "while number <= 3:\n",
    "    print(f\"number is {number}\")\n",
    "    number += 1\n",
    "\n",
    "print(number)"
   ]
  },
  {
   "cell_type": "code",
   "execution_count": 13,
   "id": "23cacd17-de8f-4ef7-9fa1-a282403afb8f",
   "metadata": {
    "tags": []
   },
   "outputs": [
    {
     "name": "stdout",
     "output_type": "stream",
     "text": [
      "number is 9\n",
      "number is 8\n",
      "number is 7\n",
      "number is 6\n",
      "number is 4\n",
      "number is 3\n",
      "number is 2\n",
      "number is 1\n",
      "number is 0\n"
     ]
    }
   ],
   "source": [
    "number = 10\n",
    "while number >= 1:\n",
    "    number -= 1\n",
    "    if number == 5:\n",
    "        # break\n",
    "        continue\n",
    "\n",
    "    print(f\"number is {number}\")"
   ]
  },
  {
   "cell_type": "code",
   "execution_count": 17,
   "id": "38f54184-b21b-4b69-b0ed-7a55d38063b5",
   "metadata": {
    "tags": []
   },
   "outputs": [],
   "source": [
    "movies = { \"name\":\"Friends\", \"language\":\"En\", \"Sessions\":10, \"Other name\":\"Six of One\" }"
   ]
  },
  {
   "cell_type": "code",
   "execution_count": 18,
   "id": "b2866259-63d8-4ff2-8c8e-68576475949b",
   "metadata": {
    "tags": []
   },
   "outputs": [
    {
     "name": "stdout",
     "output_type": "stream",
     "text": [
      "name\n",
      "language\n",
      "Sessions\n",
      "Other name\n"
     ]
    }
   ],
   "source": [
    "for title in movies.keys():\n",
    "     print(title)"
   ]
  },
  {
   "cell_type": "code",
   "execution_count": 20,
   "id": "191304aa-0b8e-4239-88a8-cdb0c61750c8",
   "metadata": {
    "tags": []
   },
   "outputs": [
    {
     "name": "stdout",
     "output_type": "stream",
     "text": [
      "Friends\n",
      "En\n",
      "10\n",
      "Six of One\n"
     ]
    }
   ],
   "source": [
    "for value in movies.values():\n",
    "     print(value)"
   ]
  },
  {
   "cell_type": "code",
   "execution_count": 22,
   "id": "2b86c998-2812-484f-8cb9-a6b412f6506c",
   "metadata": {
    "tags": []
   },
   "outputs": [
    {
     "name": "stdout",
     "output_type": "stream",
     "text": [
      "name:Friends\n",
      "language:En\n",
      "Sessions:10\n",
      "Other name:Six of One\n"
     ]
    }
   ],
   "source": [
    "for title, value in movies.items():\n",
    "     print(f\"{title}:{value}\")"
   ]
  },
  {
   "cell_type": "code",
   "execution_count": 27,
   "id": "c5cdaf0e-08bf-4305-9cd3-7737e03a9800",
   "metadata": {
    "tags": []
   },
   "outputs": [
    {
     "name": "stdout",
     "output_type": "stream",
     "text": [
      "(0, ('name', 'Friends')) --> ('name', 'Friends')\n",
      "(1, ('language', 'En')) --> ('language', 'En')\n",
      "(2, ('Sessions', 10)) --> ('Sessions', 10)\n",
      "(3, ('Other name', 'Six of One')) --> ('Other name', 'Six of One')\n"
     ]
    }
   ],
   "source": [
    "for i in enumerate(movies.items()): \n",
    "    print(f\"{i} --> {i[1]}\")"
   ]
  },
  {
   "cell_type": "code",
   "execution_count": 29,
   "id": "c2309b4c-5d7c-4778-8101-734b88d0b211",
   "metadata": {
    "tags": []
   },
   "outputs": [
    {
     "name": "stdout",
     "output_type": "stream",
     "text": [
      "[1, 4, 9, 16]\n"
     ]
    }
   ],
   "source": [
    "list1 = [i*i for i in (1, 2, 3, 4)]\n",
    "print(list1)"
   ]
  },
  {
   "cell_type": "code",
   "execution_count": 30,
   "id": "746bf8dc-2b6a-40a0-a4af-5bc4d40e9dbf",
   "metadata": {
    "tags": []
   },
   "outputs": [
    {
     "name": "stdout",
     "output_type": "stream",
     "text": [
      "[9, 16]\n"
     ]
    }
   ],
   "source": [
    "list1 = [i*i for i in (1, 2, 3, 4) if i > 2]\n",
    "print(list1)"
   ]
  },
  {
   "cell_type": "code",
   "execution_count": 37,
   "id": "c058375d-323a-471a-858c-5551aa39581a",
   "metadata": {
    "tags": []
   },
   "outputs": [],
   "source": [
    "question = [\"rachel\", \"monica\", \"Phoebe\", \"joey\"]"
   ]
  },
  {
   "cell_type": "code",
   "execution_count": 38,
   "id": "cae071d0-1c95-4e4b-b67d-a8c514e11096",
   "metadata": {
    "tags": []
   },
   "outputs": [
    {
     "name": "stdout",
     "output_type": "stream",
     "text": [
      "['Phoebe', 'joey', 'monica', 'rachel']\n"
     ]
    }
   ],
   "source": [
    "question.sort()\n",
    "print(question)"
   ]
  },
  {
   "cell_type": "code",
   "execution_count": 41,
   "id": "2086f99b-e6d4-44d6-98da-e218e693a266",
   "metadata": {
    "tags": []
   },
   "outputs": [
    {
     "name": "stdout",
     "output_type": "stream",
     "text": [
      "['Phoebe', 'Joey', 'Monica', 'Rachel']\n",
      "(0, 'Phoebe')\n",
      "(1, 'Joey')\n",
      "(2, 'Monica')\n",
      "(3, 'Rachel')\n"
     ]
    }
   ],
   "source": [
    "question1 = [str(i).capitalize() for i in question]\n",
    "print(question1)\n",
    "for j in enumerate(question1): \n",
    "    print(j)"
   ]
  },
  {
   "cell_type": "code",
   "execution_count": null,
   "id": "9d82007d-e7e6-4b66-8066-33307754d354",
   "metadata": {},
   "outputs": [],
   "source": [
    " "
   ]
  }
 ],
 "metadata": {
  "kernelspec": {
   "display_name": "Python 3",
   "language": "python",
   "name": "python3"
  },
  "language_info": {
   "codemirror_mode": {
    "name": "ipython",
    "version": 3
   },
   "file_extension": ".py",
   "mimetype": "text/x-python",
   "name": "python",
   "nbconvert_exporter": "python",
   "pygments_lexer": "ipython3",
   "version": "3.10.10"
  },
  "vscode": {
   "interpreter": {
    "hash": "aee8b7b246df8f9039afb4144a1f6fd8d2ca17a180786b69acc140d282b71a49"
   }
  }
 },
 "nbformat": 4,
 "nbformat_minor": 5
}
