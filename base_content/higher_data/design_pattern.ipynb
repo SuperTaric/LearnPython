{
 "cells": [
  {
   "cell_type": "code",
   "execution_count": 1,
   "id": "4b49f088-5f60-4607-bb3e-cb1b43c01cec",
   "metadata": {
    "tags": []
   },
   "outputs": [],
   "source": [
    "class Myclass:\n",
    "    _class_variable = None\n",
    "    \n",
    "    def __init__(self, var):\n",
    "        self.get_variable = var\n",
    "        \n",
    "    @property\n",
    "    def get_variable(self):\n",
    "        return self._class_variable\n",
    "    \n",
    "    @get_variable.setter\n",
    "    def get_variable(self, var):\n",
    "        self.__class__._class_variable = var\n",
    "        \n",
    "    def display(self):\n",
    "        return self.get_variable"
   ]
  },
  {
   "cell_type": "code",
   "execution_count": 3,
   "id": "bf315a98-dd9d-419e-ba3c-64472000c4be",
   "metadata": {
    "tags": []
   },
   "outputs": [],
   "source": [
    "# 适配器模式\n",
    "class UsbTypeA():\n",
    "    def getName(self):\n",
    "        return \"TypeA接口\"\n",
    "    def oneFace(self):\n",
    "        return \"单面\"\n",
    "    \n",
    "class UsbTypeC():\n",
    "    def getName(self):\n",
    "        return \"TypeC接口\"\n",
    "    def doubleFace(self):\n",
    "        return \"双面\"\n",
    "    \n",
    "class Adapter(UsbTypeC):\n",
    "    def oneFace(self):\n",
    "        return self.doubleFace()"
   ]
  },
  {
   "cell_type": "code",
   "execution_count": null,
   "id": "f7ad7bd1-d397-4675-811a-0b4c30772ae3",
   "metadata": {},
   "outputs": [],
   "source": []
  }
 ],
 "metadata": {
  "kernelspec": {
   "display_name": "Python 3 (ipykernel)",
   "language": "python",
   "name": "python3"
  },
  "language_info": {
   "codemirror_mode": {
    "name": "ipython",
    "version": 3
   },
   "file_extension": ".py",
   "mimetype": "text/x-python",
   "name": "python",
   "nbconvert_exporter": "python",
   "pygments_lexer": "ipython3",
   "version": "3.10.10"
  }
 },
 "nbformat": 4,
 "nbformat_minor": 5
}
