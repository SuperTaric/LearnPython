{
 "cells": [
  {
   "cell_type": "code",
   "execution_count": 1,
   "id": "1fcb5aa5-2a9f-4598-85fd-d2cae73e76a1",
   "metadata": {
    "tags": []
   },
   "outputs": [],
   "source": [
    "from multiprocessing import Queue\n",
    "\n",
    "q = Queue(3)\n",
    "q.put(\"11\")"
   ]
  },
  {
   "cell_type": "code",
   "execution_count": 3,
   "id": "30d9fa73-f0e0-49f9-a927-493e9eb0f54c",
   "metadata": {
    "tags": []
   },
   "outputs": [
    {
     "data": {
      "text/plain": [
       "False"
      ]
     },
     "execution_count": 3,
     "metadata": {},
     "output_type": "execute_result"
    }
   ],
   "source": [
    "q.full()"
   ]
  },
  {
   "cell_type": "code",
   "execution_count": 4,
   "id": "b4f893c4-2f03-481a-be42-aa6f0542d965",
   "metadata": {
    "tags": []
   },
   "outputs": [
    {
     "data": {
      "text/plain": [
       "False"
      ]
     },
     "execution_count": 4,
     "metadata": {},
     "output_type": "execute_result"
    }
   ],
   "source": [
    "q.empty()"
   ]
  },
  {
   "cell_type": "code",
   "execution_count": 6,
   "id": "f96ed377-f4ad-46e2-bdea-c523b607898a",
   "metadata": {
    "tags": []
   },
   "outputs": [
    {
     "data": {
      "text/plain": [
       "[1, 'hello', None]"
      ]
     },
     "execution_count": 6,
     "metadata": {},
     "output_type": "execute_result"
    }
   ],
   "source": [
    "from multiprocessing import Pipe\n",
    "\n",
    "a, b = Pipe()\n",
    "\n",
    "a.send([1, 'hello', None])\n",
    "\n",
    "b.recv()"
   ]
  },
  {
   "cell_type": "code",
   "execution_count": 7,
   "id": "d15414db-da9f-473c-87ad-c42595fdb7b5",
   "metadata": {
    "tags": []
   },
   "outputs": [
    {
     "data": {
      "text/plain": [
       "b'thank you'"
      ]
     },
     "execution_count": 7,
     "metadata": {},
     "output_type": "execute_result"
    }
   ],
   "source": [
    "b.send_bytes(b'thank you')\n",
    "\n",
    "a.recv_bytes()"
   ]
  },
  {
   "cell_type": "code",
   "execution_count": 8,
   "id": "9b08e00e-4e79-4403-9b2b-d8f280b81794",
   "metadata": {
    "tags": []
   },
   "outputs": [],
   "source": [
    "from multiprocessing import shared_memory"
   ]
  },
  {
   "cell_type": "code",
   "execution_count": null,
   "id": "10b07319-4076-4c43-a2c7-cebf15f01ad8",
   "metadata": {
    "tags": []
   },
   "outputs": [],
   "source": [
    "from multiprocessing import Queue,Process\n",
    "from random import randint\n",
    "\n",
    "def pro_num(q):\n",
    "  number = randint(1, 10000)\n",
    "  q.put(number)\n",
    "\n",
    "def con_num(q):\n",
    "  val = q.get()\n",
    "  if(val% 7 == 0):\n",
    "    print(val)\n",
    "\n",
    "if __name__ == '__main__':\n",
    "  q = Queue()\n",
    "  for i in range(2):\n",
    "    p1 = Process(target=pro_num, args=(q,))\n",
    "    p2 = Process(target=con_num, args=(q,))\n",
    "\n",
    "    p1.start()\n",
    "    p1.join()\n",
    "    p2.start()\n"
   ]
  },
  {
   "cell_type": "code",
   "execution_count": null,
   "id": "d6ac8231-9e98-401b-87b8-0129b3689b47",
   "metadata": {},
   "outputs": [],
   "source": []
  }
 ],
 "metadata": {
  "kernelspec": {
   "display_name": "Python 3 (ipykernel)",
   "language": "python",
   "name": "python3"
  },
  "language_info": {
   "codemirror_mode": {
    "name": "ipython",
    "version": 3
   },
   "file_extension": ".py",
   "mimetype": "text/x-python",
   "name": "python",
   "nbconvert_exporter": "python",
   "pygments_lexer": "ipython3",
   "version": "3.10.10"
  }
 },
 "nbformat": 4,
 "nbformat_minor": 5
}
