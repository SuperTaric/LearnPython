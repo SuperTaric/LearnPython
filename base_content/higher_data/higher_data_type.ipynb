{
 "cells": [
  {
   "cell_type": "code",
   "execution_count": 14,
   "id": "2aa9fe23-e323-4d1f-88a9-45be9a8e5d40",
   "metadata": {
    "tags": []
   },
   "outputs": [],
   "source": [
    "# 命名元祖"
   ]
  },
  {
   "cell_type": "code",
   "execution_count": 15,
   "id": "49ebfe0b-f3c1-42ba-9bf2-1a9449441ae1",
   "metadata": {
    "tags": []
   },
   "outputs": [],
   "source": [
    "from collections import namedtuple\n",
    "Point = namedtuple('Point', ['x', 'y'])\n",
    "p1 = Point(11, y = 22)\n",
    "p2 = Point(11, y = 33)"
   ]
  },
  {
   "cell_type": "code",
   "execution_count": null,
   "id": "46ae539f-0689-4733-a8b0-03c082c918ed",
   "metadata": {
    "tags": []
   },
   "outputs": [],
   "source": [
    "p1.x is p1[0]"
   ]
  },
  {
   "cell_type": "code",
   "execution_count": 10,
   "id": "49164b34-b0e7-4f30-9ca2-97bbe6eee00a",
   "metadata": {
    "tags": []
   },
   "outputs": [],
   "source": [
    "class Point_2D(namedtuple('Point', ['x', 'y'])):\n",
    "    def __add__(self, other):\n",
    "        self.other_x, self.other_y = other\n",
    "        return self.x + self.other_x, self.y + self.other_y\n",
    "    def __sub__(self, other):\n",
    "        self.other_x, self.other_y = other\n",
    "        return self.x - self.other_x, self.y - self.other_y\n",
    "\n",
    "p3 = Point_2D(11, y = 22)\n",
    "p4 = Point_2D(11, y = 33)"
   ]
  },
  {
   "cell_type": "code",
   "execution_count": 8,
   "id": "4cc8e25d-fdd7-400a-9e0b-6a70baa8e25e",
   "metadata": {
    "tags": []
   },
   "outputs": [
    {
     "data": {
      "text/plain": [
       "(22, 55)"
      ]
     },
     "execution_count": 8,
     "metadata": {},
     "output_type": "execute_result"
    }
   ],
   "source": [
    "p3 + p4"
   ]
  },
  {
   "cell_type": "code",
   "execution_count": 11,
   "id": "5c6b57eb-34f1-4b47-945a-eff2f60f8b7e",
   "metadata": {
    "tags": []
   },
   "outputs": [
    {
     "data": {
      "text/plain": [
       "(0, 11)"
      ]
     },
     "execution_count": 11,
     "metadata": {},
     "output_type": "execute_result"
    }
   ],
   "source": [
    "p4 - p3"
   ]
  },
  {
   "cell_type": "code",
   "execution_count": 16,
   "id": "ab733906-12c9-4930-8075-0f2f95583783",
   "metadata": {
    "tags": []
   },
   "outputs": [],
   "source": [
    "# 自定义字典"
   ]
  },
  {
   "cell_type": "code",
   "execution_count": 18,
   "id": "04e3543f-83fe-4fd5-a4ea-6c5564590978",
   "metadata": {
    "tags": []
   },
   "outputs": [],
   "source": [
    "from collections import UserDict\n",
    "\n",
    "class MyDict(UserDict):\n",
    "    def __setitem__(self, key, value):\n",
    "        if key in self.data.keys():\n",
    "            print(f\"字典里已经有key {key} ,不能覆盖\")\n",
    "        else:\n",
    "            self.data[str(key)] = value\n",
    "            \n",
    "dict1 = MyDict()"
   ]
  },
  {
   "cell_type": "code",
   "execution_count": 19,
   "id": "bdf42eec-f9f2-42df-9950-4cbbf2357279",
   "metadata": {
    "tags": []
   },
   "outputs": [],
   "source": [
    "dict1['a'] = 1"
   ]
  },
  {
   "cell_type": "code",
   "execution_count": 20,
   "id": "bdf6786a-4b58-4fce-acda-e8af1b75b75a",
   "metadata": {
    "tags": []
   },
   "outputs": [
    {
     "name": "stdout",
     "output_type": "stream",
     "text": [
      "字典里已经有key a ,不能覆盖\n"
     ]
    }
   ],
   "source": [
    "dict1['a'] = 2"
   ]
  },
  {
   "cell_type": "code",
   "execution_count": null,
   "id": "21bbcd4f-d7b4-41b0-85ca-1a3b9af48bd6",
   "metadata": {},
   "outputs": [],
   "source": []
  }
 ],
 "metadata": {
  "kernelspec": {
   "display_name": "Python 3 (ipykernel)",
   "language": "python",
   "name": "python3"
  },
  "language_info": {
   "codemirror_mode": {
    "name": "ipython",
    "version": 3
   },
   "file_extension": ".py",
   "mimetype": "text/x-python",
   "name": "python",
   "nbconvert_exporter": "python",
   "pygments_lexer": "ipython3",
   "version": "3.10.10"
  }
 },
 "nbformat": 4,
 "nbformat_minor": 5
}
