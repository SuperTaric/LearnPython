{
 "cells": [
  {
   "cell_type": "code",
   "execution_count": 2,
   "id": "e51fe332-58ae-4096-ba20-6964e0fff23a",
   "metadata": {
    "tags": []
   },
   "outputs": [
    {
     "data": {
      "text/plain": [
       "0"
      ]
     },
     "execution_count": 2,
     "metadata": {},
     "output_type": "execute_result"
    }
   ],
   "source": [
    "class Coffee:\n",
    "    water = 0\n",
    "    milk = 0\n",
    "    def add_water():\n",
    "        self.water = 1\n",
    "    \n",
    "mocha = Coffee()"
   ]
  },
  {
   "cell_type": "code",
   "execution_count": 3,
   "id": "46bb6e14-5569-493c-859a-fc19201b52ba",
   "metadata": {
    "tags": []
   },
   "outputs": [],
   "source": [
    "class Hamburger:\n",
    "    # 定义汉堡类\n",
    "    def __init__(self):\n",
    "        self.vegetable = 0\n",
    "        self.meat = 0\n",
    "        self.layer = 2\n",
    "\n",
    "    def add_vegetable(self):\n",
    "        self.vegetable += 1\n",
    "        self.layer += 1\n",
    "\n",
    "    def reduce_vegetable(self):\n",
    "        if (self.vegetable > 0):\n",
    "            self.vegetable -= 1\n",
    "            self.layer -= 1\n",
    "\n",
    "    def add_meat(self):\n",
    "        self.meat += 1\n",
    "        self.layer += 1\n",
    "\n",
    "    def reduce_meat(self):\n",
    "        if (self.meat > 0):\n",
    "            self.meat -= 1\n",
    "            self.layer -= 1\n",
    "\n",
    "    def display(self):\n",
    "        print(\"蔬菜数量:%s\\n肉饼数量:%s\\n汉堡层数:%s\" % (self.vegetable, self.meat, self.layer))"
   ]
  },
  {
   "cell_type": "code",
   "execution_count": 4,
   "id": "498490d8-485e-484d-86e8-177102d6dee2",
   "metadata": {
    "tags": []
   },
   "outputs": [
    {
     "name": "stdout",
     "output_type": "stream",
     "text": [
      "蔬菜数量:1\n",
      "肉饼数量:2\n",
      "汉堡层数:5\n"
     ]
    }
   ],
   "source": [
    "hamburger=Hamburger()\n",
    "hamburger.add_meat()\n",
    "hamburger.add_vegetable()\n",
    "hamburger.add_vegetable()\n",
    "hamburger.reduce_vegetable()\n",
    "hamburger.add_meat()\n",
    "hamburger.display()"
   ]
  },
  {
   "cell_type": "code",
   "execution_count": null,
   "id": "b6835b17-22ca-4b53-8c04-6a458573d508",
   "metadata": {},
   "outputs": [],
   "source": []
  }
 ],
 "metadata": {
  "kernelspec": {
   "display_name": "Python 3 (ipykernel)",
   "language": "python",
   "name": "python3"
  },
  "language_info": {
   "codemirror_mode": {
    "name": "ipython",
    "version": 3
   },
   "file_extension": ".py",
   "mimetype": "text/x-python",
   "name": "python",
   "nbconvert_exporter": "python",
   "pygments_lexer": "ipython3",
   "version": "3.10.10"
  }
 },
 "nbformat": 4,
 "nbformat_minor": 5
}
