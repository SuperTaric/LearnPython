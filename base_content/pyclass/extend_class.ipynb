{
 "cells": [
  {
   "cell_type": "code",
   "execution_count": 4,
   "id": "390e7120-5a43-4d95-8159-daff9a181d89",
   "metadata": {
    "tags": []
   },
   "outputs": [],
   "source": [
    "class Father(object):\n",
    "    def run(self):\n",
    "        print(\"run in father\")\n",
    "        \n",
    "class Son(Father):\n",
    "    def run(self):\n",
    "        super().run()\n",
    "        print(\"run in son\")"
   ]
  },
  {
   "cell_type": "code",
   "execution_count": 2,
   "id": "38fdb594-6ad5-4fbf-b323-5b4a3cc50cf2",
   "metadata": {
    "tags": []
   },
   "outputs": [
    {
     "name": "stdout",
     "output_type": "stream",
     "text": [
      "run in father\n"
     ]
    }
   ],
   "source": [
    "obj = Father()\n",
    "obj.run()"
   ]
  },
  {
   "cell_type": "code",
   "execution_count": 3,
   "id": "84a00eea-8259-45ec-a0dd-8c67a7018ff9",
   "metadata": {
    "tags": []
   },
   "outputs": [
    {
     "name": "stdout",
     "output_type": "stream",
     "text": [
      "run in father\n",
      "run in son\n"
     ]
    }
   ],
   "source": [
    "obj2 = Son()\n",
    "obj2.run()"
   ]
  },
  {
   "cell_type": "code",
   "execution_count": 6,
   "id": "c2e9d3f5-cef8-4af9-8ebd-ca23f5f6f1bd",
   "metadata": {
    "tags": []
   },
   "outputs": [
    {
     "data": {
      "text/plain": [
       "(__main__.Son, __main__.Father, object)"
      ]
     },
     "execution_count": 6,
     "metadata": {},
     "output_type": "execute_result"
    }
   ],
   "source": [
    "Son.__mro__"
   ]
  },
  {
   "cell_type": "code",
   "execution_count": null,
   "id": "c5ad71a4-d9ad-4c14-8d3a-5f02356b7f5a",
   "metadata": {},
   "outputs": [],
   "source": []
  }
 ],
 "metadata": {
  "kernelspec": {
   "display_name": "Python 3 (ipykernel)",
   "language": "python",
   "name": "python3"
  },
  "language_info": {
   "codemirror_mode": {
    "name": "ipython",
    "version": 3
   },
   "file_extension": ".py",
   "mimetype": "text/x-python",
   "name": "python",
   "nbconvert_exporter": "python",
   "pygments_lexer": "ipython3",
   "version": "3.10.10"
  }
 },
 "nbformat": 4,
 "nbformat_minor": 5
}
