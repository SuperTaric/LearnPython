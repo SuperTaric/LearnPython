{
 "cells": [
  {
   "cell_type": "code",
   "execution_count": 3,
   "id": "d18ad7fa-8fd2-415e-936d-dc5aa65eecbf",
   "metadata": {
    "tags": []
   },
   "outputs": [
    {
     "name": "stdout",
     "output_type": "stream",
     "text": [
      "Class method\n"
     ]
    }
   ],
   "source": [
    "class Klass1:\n",
    "    @classmethod\n",
    "    def funcs(cls):\n",
    "        print(\"Class method\")\n",
    "Klass1.funcs()"
   ]
  },
  {
   "cell_type": "code",
   "execution_count": 4,
   "id": "748062c9-976a-4145-8f4e-1dd9767f1335",
   "metadata": {
    "tags": []
   },
   "outputs": [],
   "source": [
    "class Klass2:\n",
    "    @staticmethod\n",
    "    def func():\n",
    "        print(\"Static method\")"
   ]
  },
  {
   "cell_type": "code",
   "execution_count": 26,
   "id": "e3d785b0-3c6f-4a71-b2dc-6a3d58b850f8",
   "metadata": {
    "tags": []
   },
   "outputs": [
    {
     "name": "stdout",
     "output_type": "stream",
     "text": [
      "123\n"
     ]
    }
   ],
   "source": [
    "class Klass3:\n",
    "    @property\n",
    "    def func(self):\n",
    "        return self.__varName\n",
    "    @func.setter\n",
    "    def func(self, varValue):\n",
    "        self.__varName = varValue\n",
    "        \n",
    "obj = Klass3()\n",
    "obj.func = \"123\"\n",
    "print(obj.func)"
   ]
  },
  {
   "cell_type": "code",
   "execution_count": 30,
   "id": "e310dd64-b0d1-489e-87a2-cf288bc41baa",
   "metadata": {
    "tags": []
   },
   "outputs": [],
   "source": [
    "class File:\n",
    "    \n",
    "    @property\n",
    "    def userData(self):\n",
    "        if self.__value == None:\n",
    "            with open(\"./userData.txt\") as f:\n",
    "                self.__value = f.read()\n",
    "        return self.__value\n",
    "    @userData.setter\n",
    "    def userData(self, value):\n",
    "        self.__value = value\n",
    "        with open(\"./userData.txt\", mode='w') as f:\n",
    "            f.write(value)"
   ]
  },
  {
   "cell_type": "code",
   "execution_count": 31,
   "id": "6b8c945d-9381-4266-87a7-79aa6da2fbfa",
   "metadata": {
    "tags": []
   },
   "outputs": [
    {
     "name": "stdout",
     "output_type": "stream",
     "text": [
      "13\n"
     ]
    }
   ],
   "source": [
    "setFile = File()\n",
    "setFile.userData = '13'\n",
    "print(setFile.userData)"
   ]
  },
  {
   "cell_type": "code",
   "execution_count": null,
   "id": "0534af70-22bb-4fd3-af33-a23ef6a62315",
   "metadata": {},
   "outputs": [],
   "source": []
  }
 ],
 "metadata": {
  "kernelspec": {
   "display_name": "Python 3 (ipykernel)",
   "language": "python",
   "name": "python3"
  },
  "language_info": {
   "codemirror_mode": {
    "name": "ipython",
    "version": 3
   },
   "file_extension": ".py",
   "mimetype": "text/x-python",
   "name": "python",
   "nbconvert_exporter": "python",
   "pygments_lexer": "ipython3",
   "version": "3.10.10"
  }
 },
 "nbformat": 4,
 "nbformat_minor": 5
}
