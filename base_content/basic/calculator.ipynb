{
 "cells": [
  {
   "cell_type": "code",
   "execution_count": 8,
   "id": "fd4288c0-7af1-471b-bc56-29256fa81536",
   "metadata": {
    "tags": []
   },
   "outputs": [
    {
     "name": "stdin",
     "output_type": "stream",
     "text": [
      "请输入一个数字 1\n",
      "请输入一个数字 1\n",
      "请输入一个运算符 +\n"
     ]
    },
    {
     "name": "stdout",
     "output_type": "stream",
     "text": [
      "计算结果为2\n"
     ]
    }
   ],
   "source": [
    "# 计算俩个整数的四则运算\n",
    "\n",
    "num1 = input(\"请输入一个数字\")\n",
    "num2 = input(\"请输入一个数字\")\n",
    "op = input(\"请输入一个运算符\")\n",
    "sum = eval(f\"{num1}{op}{num2}\")\n",
    "print(f\"计算结果为{sum}\")"
   ]
  },
  {
   "cell_type": "code",
   "execution_count": null,
   "id": "3181f779-a398-4efc-a053-6fcbf26b935e",
   "metadata": {},
   "outputs": [],
   "source": []
  }
 ],
 "metadata": {
  "kernelspec": {
   "display_name": "Python 3 (ipykernel)",
   "language": "python",
   "name": "python3"
  },
  "language_info": {
   "codemirror_mode": {
    "name": "ipython",
    "version": 3
   },
   "file_extension": ".py",
   "mimetype": "text/x-python",
   "name": "python",
   "nbconvert_exporter": "python",
   "pygments_lexer": "ipython3",
   "version": "3.10.10"
  }
 },
 "nbformat": 4,
 "nbformat_minor": 5
}
