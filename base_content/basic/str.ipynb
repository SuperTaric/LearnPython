{
 "cells": [
  {
   "cell_type": "code",
   "execution_count": 1,
   "id": "59e0ded6-40a1-4c9c-b219-7478b15fd2e0",
   "metadata": {
    "tags": []
   },
   "outputs": [
    {
     "name": "stdout",
     "output_type": "stream",
     "text": [
      "x的值是123\n"
     ]
    }
   ],
   "source": [
    "x = 123\n",
    "print(f\"x的值是{x}\")"
   ]
  },
  {
   "cell_type": "code",
   "execution_count": 4,
   "id": "ffd5727e-ffd0-4041-a4cf-fa9bd9b88f43",
   "metadata": {
    "tags": []
   },
   "outputs": [
    {
     "data": {
      "text/plain": [
       "True"
      ]
     },
     "execution_count": 4,
     "metadata": {},
     "output_type": "execute_result"
    }
   ],
   "source": [
    "\"x\" in \"1313x\""
   ]
  },
  {
   "cell_type": "code",
   "execution_count": 5,
   "id": "de06d618-9743-4a19-9f96-e9e719fe1872",
   "metadata": {
    "tags": []
   },
   "outputs": [
    {
     "data": {
      "text/plain": [
       "False"
      ]
     },
     "execution_count": 5,
     "metadata": {},
     "output_type": "execute_result"
    }
   ],
   "source": [
    "\"x\" not in \"1313x\""
   ]
  },
  {
   "cell_type": "code",
   "execution_count": 6,
   "id": "d095380d-1169-4f15-9434-27ef513c7e16",
   "metadata": {
    "tags": []
   },
   "outputs": [
    {
     "data": {
      "text/plain": [
       "'abcxyz'"
      ]
     },
     "execution_count": 6,
     "metadata": {},
     "output_type": "execute_result"
    }
   ],
   "source": [
    "\"abc\" + \"xyz\""
   ]
  },
  {
   "cell_type": "code",
   "execution_count": 7,
   "id": "e03604be-36f5-4b10-80de-46667feab76f",
   "metadata": {
    "tags": []
   },
   "outputs": [
    {
     "data": {
      "text/plain": [
       "'abcabcabcabcabc'"
      ]
     },
     "execution_count": 7,
     "metadata": {},
     "output_type": "execute_result"
    }
   ],
   "source": [
    "\"abc\" * 5"
   ]
  },
  {
   "cell_type": "code",
   "execution_count": 12,
   "id": "8d55ffbc-4981-4161-b57e-006bbd27e0e0",
   "metadata": {
    "tags": []
   },
   "outputs": [
    {
     "name": "stdout",
     "output_type": "stream",
     "text": [
      "bcab\n"
     ]
    }
   ],
   "source": [
    "s = 'abcabcabcabcabc'\n",
    "print(s[1:5])"
   ]
  },
  {
   "cell_type": "code",
   "execution_count": 14,
   "id": "bbd21edc-2bb6-4035-9b04-5b72efcb3791",
   "metadata": {
    "tags": []
   },
   "outputs": [
    {
     "data": {
      "text/plain": [
       "5"
      ]
     },
     "execution_count": 14,
     "metadata": {},
     "output_type": "execute_result"
    }
   ],
   "source": [
    "\"xyzxyzxyzxyzxyz\".count(\"x\")"
   ]
  },
  {
   "cell_type": "code",
   "execution_count": 15,
   "id": "6f8128e1-bd12-454f-80ae-72760a281bfc",
   "metadata": {
    "tags": []
   },
   "outputs": [
    {
     "data": {
      "text/plain": [
       "4"
      ]
     },
     "execution_count": 15,
     "metadata": {},
     "output_type": "execute_result"
    }
   ],
   "source": [
    "\"xyzxyzxyzxyzx\".count(\"xy\")"
   ]
  },
  {
   "cell_type": "code",
   "execution_count": 16,
   "id": "f9adc4ae-68ee-42d9-9bcc-065467fb1eb4",
   "metadata": {
    "tags": []
   },
   "outputs": [
    {
     "data": {
      "text/plain": [
       "0"
      ]
     },
     "execution_count": 16,
     "metadata": {},
     "output_type": "execute_result"
    }
   ],
   "source": [
    "\"xyzxyzxyzxyzx\".count(\"a\")"
   ]
  },
  {
   "cell_type": "code",
   "execution_count": 18,
   "id": "4ae84358-c92b-488f-afe7-49cbe5cb6153",
   "metadata": {
    "tags": []
   },
   "outputs": [
    {
     "data": {
      "text/plain": [
       "True"
      ]
     },
     "execution_count": 18,
     "metadata": {},
     "output_type": "execute_result"
    }
   ],
   "source": [
    "\"xyzxyzxyzxyzx\".isalnum()"
   ]
  },
  {
   "cell_type": "code",
   "execution_count": 19,
   "id": "db3e6996-1724-4d79-895b-b0a24bbb7cd5",
   "metadata": {
    "tags": []
   },
   "outputs": [
    {
     "data": {
      "text/plain": [
       "True"
      ]
     },
     "execution_count": 19,
     "metadata": {},
     "output_type": "execute_result"
    }
   ],
   "source": [
    "\"xyzxyzxyzxyzx\".isalpha()"
   ]
  },
  {
   "cell_type": "code",
   "execution_count": 20,
   "id": "2e5abce8-a08b-4a5a-9dd7-c40c23690dc1",
   "metadata": {
    "tags": []
   },
   "outputs": [
    {
     "data": {
      "text/plain": [
       "'a,d,f,f,a,f'"
      ]
     },
     "execution_count": 20,
     "metadata": {},
     "output_type": "execute_result"
    }
   ],
   "source": [
    "\",\".join(\"adffaf\")"
   ]
  },
  {
   "cell_type": "code",
   "execution_count": 21,
   "id": "6825e51c-9434-4ce7-9d1a-021b823a4dd9",
   "metadata": {
    "tags": []
   },
   "outputs": [
    {
     "data": {
      "text/plain": [
       "['a', 'd', 'f']"
      ]
     },
     "execution_count": 21,
     "metadata": {},
     "output_type": "execute_result"
    }
   ],
   "source": [
    "\"a,d,f\".split(\",\")"
   ]
  },
  {
   "cell_type": "code",
   "execution_count": 22,
   "id": "af1a9f1e-fc3e-4300-88ff-840560d192fc",
   "metadata": {
    "tags": []
   },
   "outputs": [
    {
     "data": {
      "text/plain": [
       "True"
      ]
     },
     "execution_count": 22,
     "metadata": {},
     "output_type": "execute_result"
    }
   ],
   "source": [
    "\"xyzxyzxyzxyzx\".startswith(\"x\")"
   ]
  },
  {
   "cell_type": "code",
   "execution_count": null,
   "id": "6c34e863-81d7-4b9c-8651-c1d73bcd0d4c",
   "metadata": {},
   "outputs": [],
   "source": []
  }
 ],
 "metadata": {
  "kernelspec": {
   "display_name": "Python 3 (ipykernel)",
   "language": "python",
   "name": "python3"
  },
  "language_info": {
   "codemirror_mode": {
    "name": "ipython",
    "version": 3
   },
   "file_extension": ".py",
   "mimetype": "text/x-python",
   "name": "python",
   "nbconvert_exporter": "python",
   "pygments_lexer": "ipython3",
   "version": "3.10.10"
  }
 },
 "nbformat": 4,
 "nbformat_minor": 5
}
