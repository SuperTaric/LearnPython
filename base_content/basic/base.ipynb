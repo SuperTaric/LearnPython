{
 "cells": [
  {
   "cell_type": "code",
   "execution_count": 1,
   "id": "98b0158c-64d5-41b9-8c84-c0523caa9af4",
   "metadata": {
    "tags": []
   },
   "outputs": [
    {
     "name": "stdout",
     "output_type": "stream",
     "text": [
      " 1111\n"
     ]
    },
    {
     "data": {
      "text/plain": [
       "'1111'"
      ]
     },
     "execution_count": 1,
     "metadata": {},
     "output_type": "execute_result"
    }
   ],
   "source": [
    "input()"
   ]
  },
  {
   "cell_type": "code",
   "execution_count": 2,
   "id": "e29a0c01-efe3-4989-9b7e-2749471ac823",
   "metadata": {
    "tags": []
   },
   "outputs": [
    {
     "name": "stdout",
     "output_type": "stream",
     "text": [
      "num 111\n"
     ]
    },
    {
     "data": {
      "text/plain": [
       "'111'"
      ]
     },
     "execution_count": 2,
     "metadata": {},
     "output_type": "execute_result"
    }
   ],
   "source": [
    "input(\"num\")"
   ]
  },
  {
   "cell_type": "code",
   "execution_count": 3,
   "id": "00e466e2-b3b4-4ab3-ac0e-c4ec66577261",
   "metadata": {
    "tags": []
   },
   "outputs": [
    {
     "name": "stdout",
     "output_type": "stream",
     "text": [
      "num \n",
      " 121231\n"
     ]
    },
    {
     "data": {
      "text/plain": [
       "'121231'"
      ]
     },
     "execution_count": 3,
     "metadata": {},
     "output_type": "execute_result"
    }
   ],
   "source": [
    "input(\"num \\n\")"
   ]
  },
  {
   "cell_type": "code",
   "execution_count": 4,
   "id": "0edfc634-904d-4b8b-833f-0d5256de6121",
   "metadata": {
    "tags": []
   },
   "outputs": [
    {
     "name": "stdout",
     "output_type": "stream",
     "text": [
      "输入第一行内容\n",
      " 1\n",
      "输入第二行内容\n",
      " 2\n"
     ]
    },
    {
     "name": "stdout",
     "output_type": "stream",
     "text": [
      "2\n",
      "1\n"
     ]
    }
   ],
   "source": [
    "var1 = input(\"输入第一行内容\\n\")\n",
    "var2 = input(\"输入第二行内容\\n\")\n",
    "print(var2)\n",
    "print(var1)"
   ]
  },
  {
   "cell_type": "code",
   "execution_count": 1,
   "id": "60fc1ac4-23ff-4a13-89f5-789e135730e1",
   "metadata": {
    "tags": []
   },
   "outputs": [
    {
     "name": "stdout",
     "output_type": "stream",
     "text": [
      "3.14\n"
     ]
    }
   ],
   "source": [
    "pi = 3.14\n",
    "print(pi)"
   ]
  }
 ],
 "metadata": {
  "kernelspec": {
   "display_name": "Python 3 (ipykernel)",
   "language": "python",
   "name": "python3"
  },
  "language_info": {
   "codemirror_mode": {
    "name": "ipython",
    "version": 3
   },
   "file_extension": ".py",
   "mimetype": "text/x-python",
   "name": "python",
   "nbconvert_exporter": "python",
   "pygments_lexer": "ipython3",
   "version": "3.10.10"
  }
 },
 "nbformat": 4,
 "nbformat_minor": 5
}
