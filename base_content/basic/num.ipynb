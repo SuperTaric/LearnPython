{
 "cells": [
  {
   "cell_type": "code",
   "execution_count": 2,
   "id": "851ec665-33c5-4c22-9b60-929c72ed5bdd",
   "metadata": {
    "tags": []
   },
   "outputs": [
    {
     "data": {
      "text/plain": [
       "123.456"
      ]
     },
     "execution_count": 2,
     "metadata": {},
     "output_type": "execute_result"
    }
   ],
   "source": [
    "123.456"
   ]
  },
  {
   "cell_type": "code",
   "execution_count": 1,
   "id": "805f6e96-023b-4d01-919b-a8bf974dc364",
   "metadata": {
    "tags": []
   },
   "outputs": [
    {
     "name": "stdout",
     "output_type": "stream",
     "text": [
      "123\n"
     ]
    }
   ],
   "source": [
    "print(int(123.456))"
   ]
  },
  {
   "cell_type": "code",
   "execution_count": 4,
   "id": "45d1d6bb-075c-4a98-88e8-b95ef3e58f57",
   "metadata": {
    "tags": []
   },
   "outputs": [
    {
     "name": "stdout",
     "output_type": "stream",
     "text": [
      "<class 'int'>\n",
      "<class 'str'>\n"
     ]
    }
   ],
   "source": [
    "abc = 123\n",
    "print(type(abc))\n",
    "xyz = str(abc)\n",
    "print(type(xyz))"
   ]
  }
 ],
 "metadata": {
  "kernelspec": {
   "display_name": "Python 3 (ipykernel)",
   "language": "python",
   "name": "python3"
  },
  "language_info": {
   "codemirror_mode": {
    "name": "ipython",
    "version": 3
   },
   "file_extension": ".py",
   "mimetype": "text/x-python",
   "name": "python",
   "nbconvert_exporter": "python",
   "pygments_lexer": "ipython3",
   "version": "3.10.10"
  }
 },
 "nbformat": 4,
 "nbformat_minor": 5
}
