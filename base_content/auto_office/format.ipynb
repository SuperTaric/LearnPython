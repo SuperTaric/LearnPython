{
 "cells": [
  {
   "cell_type": "code",
   "execution_count": 5,
   "metadata": {},
   "outputs": [
    {
     "name": "stdout",
     "output_type": "stream",
     "text": [
      "[['Qty', 'Id', 'Desc'], ['3', '101', 'Spam'], ['7', '422', 'Eggs'], ['4', '631', 'Spam, spam, eggs, and spam']]\n"
     ]
    }
   ],
   "source": [
    "from docx import Document\n",
    "document = Document('./sample.docx')\n",
    "tables = document.tables\n",
    "\n",
    "\n",
    "data_row = []\n",
    "data_cell = []\n",
    "for t in tables:\n",
    "    data_row = [[cell.text for cell in row.cells] for row in t.rows]\n",
    "print(data_row)"
   ]
  },
  {
   "cell_type": "code",
   "execution_count": 2,
   "metadata": {},
   "outputs": [],
   "source": [
    "from openpyxl import Workbook\n",
    "\n",
    "wb = Workbook()\n",
    "\n",
    "ws = wb.active\n",
    "\n",
    "for line in data_row:\n",
    "    ws.append(line)\n",
    "\n",
    "wb.save(\"sample2.xlsx\")"
   ]
  }
 ],
 "metadata": {
  "kernelspec": {
   "display_name": "Python 3",
   "language": "python",
   "name": "python3"
  },
  "language_info": {
   "codemirror_mode": {
    "name": "ipython",
    "version": 3
   },
   "file_extension": ".py",
   "mimetype": "text/x-python",
   "name": "python",
   "nbconvert_exporter": "python",
   "pygments_lexer": "ipython3",
   "version": "3.10.10"
  },
  "orig_nbformat": 4,
  "vscode": {
   "interpreter": {
    "hash": "aee8b7b246df8f9039afb4144a1f6fd8d2ca17a180786b69acc140d282b71a49"
   }
  }
 },
 "nbformat": 4,
 "nbformat_minor": 2
}
