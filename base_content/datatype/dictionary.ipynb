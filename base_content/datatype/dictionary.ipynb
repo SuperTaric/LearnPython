{
 "cells": [
  {
   "cell_type": "code",
   "execution_count": 1,
   "id": "f56aa22e-2392-44c0-98a1-a74f3e914d3c",
   "metadata": {
    "tags": []
   },
   "outputs": [
    {
     "data": {
      "text/plain": [
       "dict_items([('tom', 'tom@gmail.com'), ('jerry', 'jerry@gmail.com'), ('john', 'john@gmail.com')])"
      ]
     },
     "execution_count": 1,
     "metadata": {},
     "output_type": "execute_result"
    }
   ],
   "source": [
    "mail_list = {'tom': 'tom@gmail.com', 'jerry': 'jerry@gmail.com', 'john': 'john@gmail.com'}\n",
    "mail_list.items()"
   ]
  },
  {
   "cell_type": "code",
   "execution_count": 2,
   "id": "288fce52-3bc0-4f6f-a7f0-a9bd328cb366",
   "metadata": {
    "tags": []
   },
   "outputs": [
    {
     "data": {
      "text/plain": [
       "dict_values(['tom@gmail.com', 'jerry@gmail.com', 'john@gmail.com'])"
      ]
     },
     "execution_count": 2,
     "metadata": {},
     "output_type": "execute_result"
    }
   ],
   "source": [
    "mail_list.values()"
   ]
  },
  {
   "cell_type": "code",
   "execution_count": 3,
   "id": "55a484a4-7900-43f3-87e4-a87281f16abc",
   "metadata": {
    "tags": []
   },
   "outputs": [
    {
     "data": {
      "text/plain": [
       "dict_keys(['tom', 'jerry', 'john'])"
      ]
     },
     "execution_count": 3,
     "metadata": {},
     "output_type": "execute_result"
    }
   ],
   "source": [
    "mail_list.keys()"
   ]
  },
  {
   "cell_type": "code",
   "execution_count": 4,
   "id": "9b9028e8-dc29-4402-9979-3b5fd6859b41",
   "metadata": {
    "tags": []
   },
   "outputs": [
    {
     "name": "stdout",
     "output_type": "stream",
     "text": [
      "tom\n",
      "tom@gmail.com\n",
      "jerry\n",
      "jerry@gmail.com\n",
      "john\n",
      "john@gmail.com\n"
     ]
    }
   ],
   "source": [
    "for key, value in mail_list.items():\n",
    "    print(key)\n",
    "    print(value)"
   ]
  },
  {
   "cell_type": "code",
   "execution_count": 5,
   "id": "d38c0939-9cd1-4f96-a656-368427a289f4",
   "metadata": {
    "tags": []
   },
   "outputs": [
    {
     "name": "stdout",
     "output_type": "stream",
     "text": [
      "{'tom': 'tom@gmail.com', 'jerry': 'jerry@gmail.com', 'john': 'john@gmail.com', 'wilson': 'wilson@gmail.com'}\n"
     ]
    }
   ],
   "source": [
    "mail_list['wilson'] = 'wilson@gmail.com'\n",
    "print(mail_list)"
   ]
  },
  {
   "cell_type": "code",
   "execution_count": 6,
   "id": "78c2dcbe-ccf3-4014-a1cf-e0978045a7e8",
   "metadata": {
    "tags": []
   },
   "outputs": [
    {
     "name": "stdout",
     "output_type": "stream",
     "text": [
      "{'jerry': 'jerry@gmail.com', 'john': 'john@gmail.com', 'wilson': 'wilson@gmail.com'}\n",
      "{'jerry': 'jerry@gmail.com', 'john': 'john@gmail.com'}\n"
     ]
    }
   ],
   "source": [
    "mail_list.pop('tom')\n",
    "print(mail_list)\n",
    "mail_list.popitem()\n",
    "print(mail_list)"
   ]
  },
  {
   "cell_type": "code",
   "execution_count": 7,
   "id": "f73a0a75-e0f7-4f7d-8923-ffda70607969",
   "metadata": {
    "tags": []
   },
   "outputs": [
    {
     "name": "stdout",
     "output_type": "stream",
     "text": [
      "None\n",
      "{'jerry': 'jerry@gmail.com', 'john': 'john@gmail.com', 'tom2': None}\n"
     ]
    }
   ],
   "source": [
    "tom_mail = mail_list.setdefault(\"tom2\")\n",
    "print(tom_mail)\n",
    "print(mail_list)"
   ]
  },
  {
   "cell_type": "code",
   "execution_count": 8,
   "id": "9a868d4f-dbf5-4f72-933a-41dcfc2aade7",
   "metadata": {
    "tags": []
   },
   "outputs": [
    {
     "name": "stdout",
     "output_type": "stream",
     "text": [
      "{'jerry': 'jerry1@gmail.com', 'john': 'john@gmail.com', 'tom2': None, 'tom': 'tom@gmail.com'}\n"
     ]
    }
   ],
   "source": [
    "new_mail_list = {'tom': 'tom@gmail.com', 'jerry': 'jerry1@gmail.com', 'john': 'john@gmail.com'}\n",
    "mail_list |= new_mail_list\n",
    "print(mail_list)"
   ]
  },
  {
   "cell_type": "code",
   "execution_count": null,
   "id": "47ade845-a148-414b-abd9-00e4e77e45bd",
   "metadata": {},
   "outputs": [],
   "source": []
  }
 ],
 "metadata": {
  "kernelspec": {
   "display_name": "Python 3 (ipykernel)",
   "language": "python",
   "name": "python3"
  },
  "language_info": {
   "codemirror_mode": {
    "name": "ipython",
    "version": 3
   },
   "file_extension": ".py",
   "mimetype": "text/x-python",
   "name": "python",
   "nbconvert_exporter": "python",
   "pygments_lexer": "ipython3",
   "version": "3.10.10"
  }
 },
 "nbformat": 4,
 "nbformat_minor": 5
}
