{
 "cells": [
  {
   "cell_type": "code",
   "execution_count": 1,
   "id": "2992e3bb-d70a-4d52-8bd8-e2c321d84af9",
   "metadata": {
    "tags": []
   },
   "outputs": [
    {
     "name": "stdout",
     "output_type": "stream",
     "text": [
      "['张三,同事,13511112222\\n', '李四,朋友,13900001111\\n', '王武,同事,18912344321']\n"
     ]
    }
   ],
   "source": [
    "with open('./demo.csv') as f:\n",
    "    file_data = f.readlines()\n",
    "    print(file_data)"
   ]
  },
  {
   "cell_type": "code",
   "execution_count": 3,
   "id": "4348b8fb-9f21-4ea8-8d5f-571c3c29219e",
   "metadata": {
    "tags": []
   },
   "outputs": [
    {
     "name": "stdout",
     "output_type": "stream",
     "text": [
      "Requirement already satisfied: tinydb in /Library/Frameworks/Python.framework/Versions/3.10/lib/python3.10/site-packages (4.7.1)\n"
     ]
    }
   ],
   "source": [
    "! pip3 install tinydb\n",
    "from tinydb import TinyDB"
   ]
  },
  {
   "cell_type": "code",
   "execution_count": 5,
   "id": "05b8a438-ae6b-4d37-86be-da3972ec497a",
   "metadata": {
    "tags": []
   },
   "outputs": [
    {
     "data": {
      "text/plain": [
       "[1, 2, 3]"
      ]
     },
     "execution_count": 5,
     "metadata": {},
     "output_type": "execute_result"
    }
   ],
   "source": [
    "db = TinyDB('./db.json')\n",
    "\n",
    "friend_1 = {'name': file_data[0].split(',')[0], 'source': file_data[0].split(',')[1], 'tel': file_data[0].split(',')[2].strip()}\n",
    "friend_2 = {'name': file_data[1].split(',')[0], 'source': file_data[1].split(',')[1], 'tel': file_data[1].split(',')[2].strip()}\n",
    "friend_3 = {'name': file_data[2].split(',')[0], 'source': file_data[2].split(',')[1], 'tel': file_data[2].split(',')[2].strip()}\n",
    "\n",
    "db.insert_multiple([\n",
    "    friend_1,\n",
    "    friend_2,\n",
    "    friend_3,\n",
    "])"
   ]
  },
  {
   "cell_type": "code",
   "execution_count": 6,
   "id": "b6e019a1-a449-45ec-8bcd-1d56545d0dcf",
   "metadata": {
    "tags": []
   },
   "outputs": [
    {
     "data": {
      "text/plain": [
       "[{'name': '张三', 'source': '同事', 'tel': '13511112222'},\n",
       " {'name': '李四', 'source': '朋友', 'tel': '13900001111'},\n",
       " {'name': '王武', 'source': '同事', 'tel': '18912344321'}]"
      ]
     },
     "execution_count": 6,
     "metadata": {},
     "output_type": "execute_result"
    }
   ],
   "source": [
    "db.all()"
   ]
  },
  {
   "cell_type": "code",
   "execution_count": 7,
   "id": "daaf00a9-6188-4436-ad44-ed26a4d0b708",
   "metadata": {
    "tags": []
   },
   "outputs": [
    {
     "name": "stdout",
     "output_type": "stream",
     "text": [
      "[{'name': '张三', 'source': '同事', 'tel': '13511112222'}]\n"
     ]
    }
   ],
   "source": [
    "from tinydb import Query\n",
    "friend = Query()\n",
    "friend_info = db.search(friend.name == \"张三\")\n",
    "\n",
    "print(friend_info)"
   ]
  },
  {
   "cell_type": "code",
   "execution_count": null,
   "id": "2477a3df-a4a3-4c30-a52b-28e1e666d5cb",
   "metadata": {},
   "outputs": [],
   "source": []
  }
 ],
 "metadata": {
  "kernelspec": {
   "display_name": "Python 3",
   "language": "python",
   "name": "python3"
  },
  "language_info": {
   "codemirror_mode": {
    "name": "ipython",
    "version": 3
   },
   "file_extension": ".py",
   "mimetype": "text/x-python",
   "name": "python",
   "nbconvert_exporter": "python",
   "pygments_lexer": "ipython3",
   "version": "3.10.10"
  },
  "vscode": {
   "interpreter": {
    "hash": "aee8b7b246df8f9039afb4144a1f6fd8d2ca17a180786b69acc140d282b71a49"
   }
  }
 },
 "nbformat": 4,
 "nbformat_minor": 5
}
