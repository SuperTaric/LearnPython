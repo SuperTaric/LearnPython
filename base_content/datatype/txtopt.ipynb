{
 "cells": [
  {
   "cell_type": "code",
   "execution_count": null,
   "id": "4d8a60b1-a618-4328-bcc6-5afab9aa5e88",
   "metadata": {
    "tags": []
   },
   "outputs": [],
   "source": [
    "import pprint\n",
    "with open(\"./demo.txt\") as f:\n",
    "    file_data = f.readlines()\n",
    "    pprint.pprint(file_data)"
   ]
  },
  {
   "cell_type": "code",
   "execution_count": 12,
   "id": "3716f3e2-7a94-4f0f-8642-f0c6c26bb63a",
   "metadata": {
    "tags": []
   },
   "outputs": [
    {
     "name": "stdout",
     "output_type": "stream",
     "text": [
      "27\n",
      "13\n"
     ]
    }
   ],
   "source": [
    "print(len(file_data))\n",
    "print(file_data.count('\\n'))"
   ]
  },
  {
   "cell_type": "code",
   "execution_count": 13,
   "id": "6f2dc66e-9f4d-4e95-9053-7d45a984d934",
   "metadata": {
    "tags": []
   },
   "outputs": [
    {
     "name": "stdout",
     "output_type": "stream",
     "text": [
      "14\n",
      "14\n"
     ]
    }
   ],
   "source": [
    "print(len(file_data) - file_data.count('\\n'))\n",
    "print(len(set(file_data)) - 1)"
   ]
  },
  {
   "cell_type": "code",
   "execution_count": 11,
   "id": "80bad2a2-8c35-4420-9886-1b17d472a975",
   "metadata": {
    "tags": []
   },
   "outputs": [
    {
     "name": "stdout",
     "output_type": "stream",
     "text": [
      "0\n",
      "19\n"
     ]
    }
   ],
   "source": [
    "print(file_data.count(\"I\"))\n",
    "print(str(file_data).split(\" \").count(\"I\"))"
   ]
  },
  {
   "cell_type": "code",
   "execution_count": 14,
   "id": "4ec98674-9252-4ca3-bc63-bd20f876a8af",
   "metadata": {
    "tags": []
   },
   "outputs": [
    {
     "name": "stdout",
     "output_type": "stream",
     "text": [
      "6\n"
     ]
    }
   ],
   "source": [
    "print(int(str(file_data).split(\" \").count(\"you\")) + int(str(file_data).split(\" \").count(\"You\")))"
   ]
  },
  {
   "cell_type": "code",
   "execution_count": null,
   "id": "a56c3862-2989-49b5-8aaf-c14a9e494e63",
   "metadata": {},
   "outputs": [],
   "source": []
  }
 ],
 "metadata": {
  "kernelspec": {
   "display_name": "Python 3 (ipykernel)",
   "language": "python",
   "name": "python3"
  },
  "language_info": {
   "codemirror_mode": {
    "name": "ipython",
    "version": 3
   },
   "file_extension": ".py",
   "mimetype": "text/x-python",
   "name": "python",
   "nbconvert_exporter": "python",
   "pygments_lexer": "ipython3",
   "version": "3.10.10"
  }
 },
 "nbformat": 4,
 "nbformat_minor": 5
}
