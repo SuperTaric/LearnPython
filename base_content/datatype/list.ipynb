{
 "cells": [
  {
   "cell_type": "code",
   "execution_count": 3,
   "id": "8d3282d6-b6e1-4898-be4b-1af0f42a22b4",
   "metadata": {
    "tags": []
   },
   "outputs": [
    {
     "name": "stdout",
     "output_type": "stream",
     "text": [
      "['red', 'green', 'blue']\n",
      "<class 'list'>\n",
      "blue\n"
     ]
    }
   ],
   "source": [
    "colors = [ \"red\", \"green\", \"blue\" ]\n",
    "print(colors)\n",
    "print(type(colors))\n",
    "print(colors[-1])"
   ]
  },
  {
   "cell_type": "code",
   "execution_count": 5,
   "id": "8be2c1df-89f8-4ac2-b356-9a971bb56091",
   "metadata": {
    "tags": []
   },
   "outputs": [
    {
     "name": "stdout",
     "output_type": "stream",
     "text": [
      "<class 'list'>\n",
      "['a', 'b', 'c', 'd', 'e']\n"
     ]
    }
   ],
   "source": [
    "list_demo = [\"a\", \"b\", \"c\", \"d\", \"e\"]\n",
    "print(type(list_demo))\n",
    "print(list_demo)"
   ]
  },
  {
   "cell_type": "code",
   "execution_count": 6,
   "id": "5d542993-e335-4a78-b9ec-e0cc11c7492b",
   "metadata": {
    "tags": []
   },
   "outputs": [
    {
     "name": "stdout",
     "output_type": "stream",
     "text": [
      "['first', 'a', 'b', 'c', 'd', 'e']\n"
     ]
    }
   ],
   "source": [
    "list_demo.insert(0, \"first\")\n",
    "print(list_demo)"
   ]
  },
  {
   "cell_type": "code",
   "execution_count": 7,
   "id": "b5c52887-773e-4d29-ad5b-8c482d17972b",
   "metadata": {
    "tags": []
   },
   "outputs": [
    {
     "name": "stdout",
     "output_type": "stream",
     "text": [
      "['first', 'a', 'b', 'c', 'd', 'last', 'e']\n"
     ]
    }
   ],
   "source": [
    "list_demo.insert(-1, \"last\")\n",
    "print(list_demo)"
   ]
  },
  {
   "cell_type": "code",
   "execution_count": 8,
   "id": "864b37ea-8f7d-4b52-93c3-4c746f6a275e",
   "metadata": {
    "tags": []
   },
   "outputs": [
    {
     "name": "stdout",
     "output_type": "stream",
     "text": [
      "['first', 'a', 'b', 'c', 'd', 'last', 'e', 'lastone']\n"
     ]
    }
   ],
   "source": [
    "list_demo.append(\"lastone\")\n",
    "print(list_demo)"
   ]
  },
  {
   "cell_type": "code",
   "execution_count": 9,
   "id": "6e7be612-d3c7-4f16-af7b-d7a53b971937",
   "metadata": {
    "tags": []
   },
   "outputs": [
    {
     "name": "stdout",
     "output_type": "stream",
     "text": [
      "['first', 'a', 'b', 'c', 'd', 'last', 'e', 'lastone', 'l', 'a', 's', 't', 'o', 'n', 'e']\n"
     ]
    }
   ],
   "source": [
    "list_demo.extend(\"lastone\")\n",
    "print(list_demo)"
   ]
  },
  {
   "cell_type": "code",
   "execution_count": 10,
   "id": "2a612ab6-1fe2-4294-b33f-28a8be1ea9f5",
   "metadata": {
    "tags": []
   },
   "outputs": [
    {
     "name": "stdout",
     "output_type": "stream",
     "text": [
      "['first', 'a', 'b', 'c', 'd', 'last', 'e', 'lastone', 'l', 'a', 's', 't', 'o', 'n', 'e', '1', '2']\n"
     ]
    }
   ],
   "source": [
    "list_demo.extend([\"1\", \"2\"])\n",
    "print(list_demo)"
   ]
  },
  {
   "cell_type": "code",
   "execution_count": 11,
   "id": "f1906ce9-9c6f-473f-986d-e464652a040e",
   "metadata": {
    "tags": []
   },
   "outputs": [
    {
     "name": "stdout",
     "output_type": "stream",
     "text": [
      "['first', 'a', 'b', 'c', 'd', 'last', 'e', 'lastone', 'l', 'a', 's', 't', 'o', 'n', 'e', '1', '2', '111', '222']\n"
     ]
    }
   ],
   "source": [
    "list_demo.extend([\"111\", \"222\"])\n",
    "print(list_demo)"
   ]
  },
  {
   "cell_type": "code",
   "execution_count": 13,
   "id": "e7db549e-8a92-4abe-b370-a73cf881b2a4",
   "metadata": {
    "tags": []
   },
   "outputs": [
    {
     "name": "stdout",
     "output_type": "stream",
     "text": [
      "['first', 'a', 'b', 'c', 'd', 'last', 'e', 'l', 'a', 's', 't', 'o', 'n', 'e', '1', '2', '111', '222']\n"
     ]
    }
   ],
   "source": [
    "list_demo.remove(\"lastone\")\n",
    "print(list_demo)"
   ]
  },
  {
   "cell_type": "code",
   "execution_count": 15,
   "id": "15b78eb5-410c-4924-ba8b-80922e700ab7",
   "metadata": {
    "tags": []
   },
   "outputs": [
    {
     "name": "stdout",
     "output_type": "stream",
     "text": [
      "result is a\n",
      "['b', 'c', 'd', 'last', 'e', 'l', 'a', 's', 't', 'o', 'n', 'e', '1', '2', '111', '222']\n"
     ]
    }
   ],
   "source": [
    "result = list_demo.pop(0)\n",
    "print(f\"result is {result}\")\n",
    "print(list_demo)"
   ]
  },
  {
   "cell_type": "code",
   "execution_count": 17,
   "id": "2781fec5-8945-42e6-b8db-3d6e7fdf2838",
   "metadata": {
    "tags": []
   },
   "outputs": [
    {
     "name": "stdout",
     "output_type": "stream",
     "text": [
      "['b', 'c', 'd', 'last', 'e', 'l', 'a', 's', 't', 'o', 'n', 'e', '1', '2', '111', '222']\n"
     ]
    }
   ],
   "source": [
    "list_demo.reverse()\n",
    "print(list_demo)"
   ]
  },
  {
   "cell_type": "code",
   "execution_count": 18,
   "id": "88a403cb-ee24-449f-96dc-295f48b4f9de",
   "metadata": {
    "tags": []
   },
   "outputs": [
    {
     "name": "stdout",
     "output_type": "stream",
     "text": [
      "16\n"
     ]
    }
   ],
   "source": [
    "print(len(list_demo))"
   ]
  },
  {
   "cell_type": "code",
   "execution_count": 19,
   "id": "51333e96-3b65-4718-9ea6-2d5ab4803d84",
   "metadata": {
    "tags": []
   },
   "outputs": [
    {
     "name": "stdout",
     "output_type": "stream",
     "text": [
      "4\n"
     ]
    }
   ],
   "source": [
    "print(len(list_demo[3]))"
   ]
  },
  {
   "cell_type": "code",
   "execution_count": 20,
   "id": "cc83e6bf-16d2-4455-abb3-58f56c3284a7",
   "metadata": {
    "tags": []
   },
   "outputs": [
    {
     "name": "stdout",
     "output_type": "stream",
     "text": [
      "2\n"
     ]
    }
   ],
   "source": [
    "print(list_demo.count(\"e\"))"
   ]
  },
  {
   "cell_type": "code",
   "execution_count": 21,
   "id": "539b8c47-981a-44c7-b6b8-c35e05f741f4",
   "metadata": {
    "tags": []
   },
   "outputs": [
    {
     "name": "stdout",
     "output_type": "stream",
     "text": [
      "['1', '111', '2', '222', 'a', 'b', 'c', 'd', 'e', 'e', 'l', 'last', 'n', 'o', 's', 't']\n"
     ]
    }
   ],
   "source": [
    "list_demo.sort()\n",
    "print(list_demo)"
   ]
  },
  {
   "cell_type": "code",
   "execution_count": null,
   "id": "061267d2-4ec5-4de9-92e3-76d9c9cf039c",
   "metadata": {},
   "outputs": [],
   "source": []
  }
 ],
 "metadata": {
  "kernelspec": {
   "display_name": "Python 3 (ipykernel)",
   "language": "python",
   "name": "python3"
  },
  "language_info": {
   "codemirror_mode": {
    "name": "ipython",
    "version": 3
   },
   "file_extension": ".py",
   "mimetype": "text/x-python",
   "name": "python",
   "nbconvert_exporter": "python",
   "pygments_lexer": "ipython3",
   "version": "3.10.10"
  }
 },
 "nbformat": 4,
 "nbformat_minor": 5
}
