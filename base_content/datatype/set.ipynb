{
 "cells": [
  {
   "cell_type": "code",
   "execution_count": 11,
   "id": "fc4b28af-f0e9-4315-bd1c-d25296ee4c6a",
   "metadata": {
    "tags": []
   },
   "outputs": [
    {
     "name": "stdout",
     "output_type": "stream",
     "text": [
      "('r', 'g', 'b', 'g', 'b', 'b')\n",
      "{'r', 'g', 'b'}\n",
      "('r', 'g', 'b')\n"
     ]
    }
   ],
   "source": [
    "color = ('r', 'g', 'b', 'g', 'b', 'b')\n",
    "print(color)\n",
    "new_color = set(color)\n",
    "print(new_color)\n",
    "\n",
    "color = tuple(new_color)\n",
    "print(color)"
   ]
  },
  {
   "cell_type": "code",
   "execution_count": null,
   "id": "aff129e9-2bc5-44db-bdc1-190294378395",
   "metadata": {},
   "outputs": [],
   "source": []
  }
 ],
 "metadata": {
  "kernelspec": {
   "display_name": "Python 3 (ipykernel)",
   "language": "python",
   "name": "python3"
  },
  "language_info": {
   "codemirror_mode": {
    "name": "ipython",
    "version": 3
   },
   "file_extension": ".py",
   "mimetype": "text/x-python",
   "name": "python",
   "nbconvert_exporter": "python",
   "pygments_lexer": "ipython3",
   "version": "3.10.10"
  }
 },
 "nbformat": 4,
 "nbformat_minor": 5
}
