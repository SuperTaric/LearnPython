{
 "cells": [
  {
   "cell_type": "code",
   "execution_count": null,
   "id": "882dbd80-5f3d-4ebe-82cf-a47ff5f0302a",
   "metadata": {
    "tags": []
   },
   "outputs": [],
   "source": [
    "!pip3.10 install requests"
   ]
  },
  {
   "cell_type": "code",
   "execution_count": null,
   "id": "336c1ca5-9112-4336-83c1-67ce91ec1c8a",
   "metadata": {
    "tags": []
   },
   "outputs": [],
   "source": [
    "import requests\n",
    "header = {\"User-Agent\": \"Mozilla/5.0 (Macintosh; Intel Mac OS X 10_15_7) AppleWebKit/537.36 (KHTML, like Gecko) Chrome/109.0.0.0 Safari/537.36\"}\n",
    "r = requests.get('https://time.geekbang.org/resource?plus=0&m=0&d=3&c=12&sort=0&order=sort', headers = header)\n",
    "\n",
    "print(r)"
   ]
  },
  {
   "cell_type": "code",
   "execution_count": 23,
   "id": "ff1b574a-4c15-41df-b687-7af20f297570",
   "metadata": {
    "tags": []
   },
   "outputs": [
    {
     "name": "stdout",
     "output_type": "stream",
     "text": [
      "尹会生\n",
      "零基础学Python（2018版）\n",
      "订阅数 79066\n"
     ]
    }
   ],
   "source": [
    "import requests\n",
    "# import json\n",
    "headers = {\"User-Agent\": \"Mozilla/5.0 (Windows NT 10.0; Win64; x64) AppleWebKit/537.36 (KHTML, like Gecko) Chrome/54.0.2840.99 Safari/537.36\",\"Referer\": \"https://time.geekbang.org\"}\n",
    "data = {\"ids\":[100008801],\"with_first_articles\":False}\n",
    "\n",
    "r = requests.post('https://time.geekbang.org/serv/v3/product/infos',headers=headers, json=data)\n",
    "# r.text\n",
    "datas = r.json()\n",
    "\n",
    "name = datas[\"data\"][\"infos\"][0][\"author\"][\"name\"]\n",
    "print(name)\n",
    "\n",
    "title = datas[\"data\"][\"infos\"][0][\"title\"]\n",
    "print(title)\n",
    "\n",
    "count = datas[\"data\"][\"infos\"][0][\"extra\"][\"sub\"][\"count\"]\n",
    "print(f\"订阅数 {count}\")\n",
    "\n",
    "\n"
   ]
  },
  {
   "cell_type": "code",
   "execution_count": null,
   "id": "b224a6c3-ca4d-48f3-ad51-c737f3fec279",
   "metadata": {
    "tags": []
   },
   "outputs": [],
   "source": [
    "import requests\n",
    "import json\n",
    "headers = {\"User-Agent\": \"Mozilla/5.0 (Windows NT 10.0; Win64; x64) AppleWebKit/537.36 (KHTML, like Gecko) Chrome/54.0.2840.99 Safari/537.36\",\"Referer\": \"https://time.geekbang.org\"}\n",
    "data = {\"ids\":[100085301,100063601,100023001,100026901,100008801,100002201,100061901,100053201],\"with_first_articles\":False}\n",
    "\n",
    "r = requests.post('https://time.geekbang.org/serv/v3/product/infos',headers=headers, json=data)\n",
    "datas = r.json()\n",
    "\n",
    "images = []\n",
    "# 取得头像\n",
    "for d in datas[\"data\"][\"infos\"]:\n",
    "    images.append(d[\"author\"][\"avatar\"])\n",
    "    print(d[\"author\"][\"avatar\"])"
   ]
  },
  {
   "cell_type": "code",
   "execution_count": 26,
   "id": "9de81aef-1cf9-4ba8-9e68-ecbb0dd3faed",
   "metadata": {
    "tags": []
   },
   "outputs": [],
   "source": [
    "url = \"https://static001.geekbang.org/resource/image/e9/79/e94d05a6446d395aa21480d915749679.jpg\"\n",
    "r = requests.get(url, headers=headers)\n",
    "with open(f'imgs/1.jpg','wb') as f:\n",
    "        f.write(r.content)"
   ]
  },
  {
   "cell_type": "code",
   "execution_count": 27,
   "id": "3a6c91af-2a5c-4f35-b4d2-c3bbe6529fd0",
   "metadata": {
    "tags": []
   },
   "outputs": [],
   "source": [
    "def download(url):\n",
    "    headers = {\"User-Agent\": \"Mozilla/5.0 (Windows NT 10.0; Win64; x64) AppleWebKit/537.36 (KHTML, like Gecko) Chrome/54.0.2840.99 Safari/537.36\",\"Referer\": \"https://time.geekbang.org\"}\n",
    "    r = requests.get(url, headers=headers)\n",
    "    with open(f'imgs/{url.split(\"/\")[-1]}.jpg','wb') as f:\n",
    "        f.write(r.content) \n",
    "\n",
    "download(url)"
   ]
  },
  {
   "cell_type": "code",
   "execution_count": null,
   "id": "e2372947-7b47-4dfc-820c-3cfb35edc68f",
   "metadata": {
    "tags": []
   },
   "outputs": [],
   "source": [
    "!pip3 install threadpool"
   ]
  },
  {
   "cell_type": "code",
   "execution_count": 29,
   "id": "d3c4eb99-89bb-4741-95a4-8ec58b12165f",
   "metadata": {
    "tags": []
   },
   "outputs": [],
   "source": [
    "from concurrent.futures import ThreadPoolExecutor\n",
    "threadPool = ThreadPoolExecutor(max_workers=4, thread_name_prefix=\"down_\")\n",
    "for i in images:\n",
    "    future = threadPool.submit(download, i)\n",
    "         \n",
    "threadPool.shutdown(wait=True)"
   ]
  },
  {
   "cell_type": "code",
   "execution_count": null,
   "id": "9ce87135-542a-4263-8df3-4ae70319d37c",
   "metadata": {},
   "outputs": [],
   "source": []
  }
 ],
 "metadata": {
  "kernelspec": {
   "display_name": "Python 3",
   "language": "python",
   "name": "python3"
  },
  "language_info": {
   "codemirror_mode": {
    "name": "ipython",
    "version": 3
   },
   "file_extension": ".py",
   "mimetype": "text/x-python",
   "name": "python",
   "nbconvert_exporter": "python",
   "pygments_lexer": "ipython3",
   "version": "3.10.10"
  },
  "vscode": {
   "interpreter": {
    "hash": "aee8b7b246df8f9039afb4144a1f6fd8d2ca17a180786b69acc140d282b71a49"
   }
  }
 },
 "nbformat": 4,
 "nbformat_minor": 5
}
